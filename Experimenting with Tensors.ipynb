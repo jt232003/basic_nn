{
 "cells": [
  {
   "cell_type": "code",
   "execution_count": 2,
   "id": "0eef105f-33b2-4f2a-a3c4-4b5679dce46f",
   "metadata": {},
   "outputs": [],
   "source": [
    " import torch"
   ]
  },
  {
   "cell_type": "code",
   "execution_count": 9,
   "id": "298da87a-198d-4a1c-b1ba-80b201d1602e",
   "metadata": {},
   "outputs": [
    {
     "data": {
      "text/plain": [
       "tensor([[0.8823, 0.9150, 0.3829],\n",
       "        [0.9593, 0.3904, 0.6009]])"
      ]
     },
     "execution_count": 9,
     "metadata": {},
     "output_type": "execute_result"
    }
   ],
   "source": [
    "#keep the values constant in each run\n",
    "torch.manual_seed(42)\n",
    "torch.rand(2,3)"
   ]
  },
  {
   "cell_type": "code",
   "execution_count": 16,
   "id": "b61cb511-47eb-4af0-b901-f5e56274da8b",
   "metadata": {},
   "outputs": [
    {
     "data": {
      "text/plain": [
       "tensor([[0.7104, 0.9464, 0.7890],\n",
       "        [0.2814, 0.7886, 0.5895]])"
      ]
     },
     "execution_count": 16,
     "metadata": {},
     "output_type": "execute_result"
    }
   ],
   "source": [
    "#different values at each iteration\n",
    "torch.rand(2,3)"
   ]
  },
  {
   "cell_type": "code",
   "execution_count": 18,
   "id": "e03c3204-2a93-4186-95dd-72f71adca63f",
   "metadata": {},
   "outputs": [
    {
     "data": {
      "text/plain": [
       "tensor([ 5,  7,  9, 11, 13])"
      ]
     },
     "execution_count": 18,
     "metadata": {},
     "output_type": "execute_result"
    }
   ],
   "source": [
    "#arrange we give step size\n",
    "torch.arange(5,15,2)"
   ]
  },
  {
   "cell_type": "code",
   "execution_count": 20,
   "id": "f2da4f1b-f119-4879-af1a-3184a29a49d2",
   "metadata": {},
   "outputs": [
    {
     "data": {
      "text/plain": [
       "tensor([ 0.0000,  2.5000,  5.0000,  7.5000, 10.0000])"
      ]
     },
     "execution_count": 20,
     "metadata": {},
     "output_type": "execute_result"
    }
   ],
   "source": [
    "#linspace u give no.of elements\n",
    "torch.linspace(0,10,5)"
   ]
  },
  {
   "cell_type": "code",
   "execution_count": 21,
   "id": "eb7fb0bb-f0c0-456d-8539-d62aae5b8e34",
   "metadata": {},
   "outputs": [
    {
     "data": {
      "text/plain": [
       "tensor([[1., 0., 0.],\n",
       "        [0., 1., 0.],\n",
       "        [0., 0., 1.]])"
      ]
     },
     "execution_count": 21,
     "metadata": {},
     "output_type": "execute_result"
    }
   ],
   "source": [
    "#identity matrix (eye)\n",
    "torch.eye(3)"
   ]
  },
  {
   "cell_type": "code",
   "execution_count": 22,
   "id": "99063cd6-6d59-4675-b018-9ebcb53aa3ea",
   "metadata": {},
   "outputs": [
    {
     "data": {
      "text/plain": [
       "tensor([[1, 0, 0, 0],\n",
       "        [0, 2, 0, 0],\n",
       "        [0, 0, 3, 0],\n",
       "        [0, 0, 0, 5]])"
      ]
     },
     "execution_count": 22,
     "metadata": {},
     "output_type": "execute_result"
    }
   ],
   "source": [
    "#diagonal matrix\n",
    "torch.diag(torch.tensor([1,2,3,5]))"
   ]
  },
  {
   "cell_type": "code",
   "execution_count": 23,
   "id": "b2892c48-4c28-4990-9e6a-d1eac68d1b6b",
   "metadata": {},
   "outputs": [
    {
     "data": {
      "text/plain": [
       "tensor([[7, 7, 7, 7, 7],\n",
       "        [7, 7, 7, 7, 7],\n",
       "        [7, 7, 7, 7, 7],\n",
       "        [7, 7, 7, 7, 7]])"
      ]
     },
     "execution_count": 23,
     "metadata": {},
     "output_type": "execute_result"
    }
   ],
   "source": [
    "#full\n",
    "torch.full((4,5),7)"
   ]
  },
  {
   "cell_type": "code",
   "execution_count": 26,
   "id": "f8b4f82c-c520-4329-b550-5b18a142d079",
   "metadata": {},
   "outputs": [
    {
     "data": {
      "text/plain": [
       "tensor([1, 2, 3])"
      ]
     },
     "execution_count": 26,
     "metadata": {},
     "output_type": "execute_result"
    }
   ],
   "source": [
    "var1 = torch.tensor([1,2,3],dtype = torch.int64)\n",
    "var1"
   ]
  },
  {
   "cell_type": "code",
   "execution_count": 27,
   "id": "66d5c2f1-fa10-41fa-a346-46dd6425e47b",
   "metadata": {},
   "outputs": [
    {
     "data": {
      "text/plain": [
       "tensor([1., 2., 3.], dtype=torch.float64)"
      ]
     },
     "execution_count": 27,
     "metadata": {},
     "output_type": "execute_result"
    }
   ],
   "source": [
    "var1 = torch.tensor([1,2,3],dtype = torch.float64)\n",
    "var1"
   ]
  },
  {
   "cell_type": "code",
   "execution_count": 28,
   "id": "4673c9ae-c6ed-4064-b989-20454180e8f5",
   "metadata": {},
   "outputs": [
    {
     "data": {
      "text/plain": [
       "torch.Size([3])"
      ]
     },
     "execution_count": 28,
     "metadata": {},
     "output_type": "execute_result"
    }
   ],
   "source": [
    "var1.shape"
   ]
  },
  {
   "cell_type": "code",
   "execution_count": 30,
   "id": "1e3fa1b7-7f87-427c-81bc-e4bbeb41143e",
   "metadata": {},
   "outputs": [
    {
     "data": {
      "text/plain": [
       "1"
      ]
     },
     "execution_count": 30,
     "metadata": {},
     "output_type": "execute_result"
    }
   ],
   "source": [
    "var1.ndim"
   ]
  },
  {
   "cell_type": "code",
   "execution_count": 32,
   "id": "a568668d-ba66-4965-94ae-e209f56be8f3",
   "metadata": {},
   "outputs": [
    {
     "data": {
      "text/plain": [
       "tensor([1., 2., 3.], dtype=torch.float64)"
      ]
     },
     "execution_count": 32,
     "metadata": {},
     "output_type": "execute_result"
    }
   ],
   "source": [
    "var1.reshape(3)"
   ]
  },
  {
   "cell_type": "code",
   "execution_count": 33,
   "id": "bf6821cf-8ee7-4388-85e2-f0b8b31eb478",
   "metadata": {},
   "outputs": [
    {
     "data": {
      "text/plain": [
       "tensor([1., 2., 3.], dtype=torch.float64)"
      ]
     },
     "execution_count": 33,
     "metadata": {},
     "output_type": "execute_result"
    }
   ],
   "source": [
    "var1.flatten()"
   ]
  },
  {
   "cell_type": "code",
   "execution_count": 34,
   "id": "7fcd1d8f-3b08-46b0-9108-69bc50c13005",
   "metadata": {},
   "outputs": [
    {
     "data": {
      "text/plain": [
       "tensor([[1., 2., 3.],\n",
       "        [5., 3., 1.]])"
      ]
     },
     "execution_count": 34,
     "metadata": {},
     "output_type": "execute_result"
    }
   ],
   "source": [
    "mat1 = torch.tensor(([1,2,3],[5,3,1.0]))\n",
    "mat1"
   ]
  },
  {
   "cell_type": "code",
   "execution_count": 35,
   "id": "56035f48-faae-464b-8c78-9ee672d2d8d3",
   "metadata": {},
   "outputs": [
    {
     "data": {
      "text/plain": [
       "tensor([[0., 2., 1.],\n",
       "        [4., 1., 1.]])"
      ]
     },
     "execution_count": 35,
     "metadata": {},
     "output_type": "execute_result"
    }
   ],
   "source": [
    "mat2 = torch.tensor(([0,2,1],[4,1,1.0]))\n",
    "mat2"
   ]
  },
  {
   "cell_type": "code",
   "execution_count": 36,
   "id": "cb3a545a-d816-4d88-aa43-fdf7cdf2b511",
   "metadata": {},
   "outputs": [
    {
     "data": {
      "text/plain": [
       "tensor([[1., 4., 4.],\n",
       "        [9., 4., 2.]])"
      ]
     },
     "execution_count": 36,
     "metadata": {},
     "output_type": "execute_result"
    }
   ],
   "source": [
    "mat1+mat2"
   ]
  },
  {
   "cell_type": "code",
   "execution_count": 37,
   "id": "b4eeaa14-b526-4c3e-bbe3-264d759d621e",
   "metadata": {},
   "outputs": [
    {
     "data": {
      "text/plain": [
       "tensor([[1., 0., 2.],\n",
       "        [1., 2., 0.]])"
      ]
     },
     "execution_count": 37,
     "metadata": {},
     "output_type": "execute_result"
    }
   ],
   "source": [
    "mat1-mat2"
   ]
  },
  {
   "cell_type": "code",
   "execution_count": 38,
   "id": "64820c05-575f-4804-9b05-c1d1301d744a",
   "metadata": {},
   "outputs": [
    {
     "data": {
      "text/plain": [
       "tensor([[  1.,   4.,   3.],\n",
       "        [625.,   3.,   1.]])"
      ]
     },
     "execution_count": 38,
     "metadata": {},
     "output_type": "execute_result"
    }
   ],
   "source": [
    "mat1**mat2"
   ]
  },
  {
   "cell_type": "code",
   "execution_count": 39,
   "id": "0df0523a-1ada-4045-a384-152eda89a5e8",
   "metadata": {},
   "outputs": [
    {
     "data": {
      "text/plain": [
       "tensor([[0.7539, 0.1952, 0.0050],\n",
       "        [0.3068, 0.1165, 0.9103]])"
      ]
     },
     "execution_count": 39,
     "metadata": {},
     "output_type": "execute_result"
    }
   ],
   "source": [
    "mat3 = torch.rand(2,3)\n",
    "mat3"
   ]
  },
  {
   "cell_type": "code",
   "execution_count": 40,
   "id": "a773d2dd-dff4-4f54-9125-785eec435eea",
   "metadata": {},
   "outputs": [
    {
     "data": {
      "text/plain": [
       "tensor([[0., 0., 0.],\n",
       "        [0., 0., 0.]])"
      ]
     },
     "execution_count": 40,
     "metadata": {},
     "output_type": "execute_result"
    }
   ],
   "source": [
    "torch.floor(mat3)"
   ]
  },
  {
   "cell_type": "code",
   "execution_count": 41,
   "id": "9bf45bf7-0454-4ffc-99c4-d454ab3012cd",
   "metadata": {},
   "outputs": [
    {
     "data": {
      "text/plain": [
       "tensor([[1., 1., 1.],\n",
       "        [1., 1., 1.]])"
      ]
     },
     "execution_count": 41,
     "metadata": {},
     "output_type": "execute_result"
    }
   ],
   "source": [
    "torch.ceil(mat3)"
   ]
  },
  {
   "cell_type": "code",
   "execution_count": 42,
   "id": "452f1396-d3fb-4a40-827b-edb5bda2bbc5",
   "metadata": {},
   "outputs": [
    {
     "data": {
      "text/plain": [
       "tensor([[1., 0., 0.],\n",
       "        [0., 0., 1.]])"
      ]
     },
     "execution_count": 42,
     "metadata": {},
     "output_type": "execute_result"
    }
   ],
   "source": [
    "torch.round(mat3)"
   ]
  },
  {
   "cell_type": "code",
   "execution_count": 43,
   "id": "07e7a1fb-1b19-4a70-b450-6deef33df9f8",
   "metadata": {},
   "outputs": [
    {
     "data": {
      "text/plain": [
       "tensor(9.)"
      ]
     },
     "execution_count": 43,
     "metadata": {},
     "output_type": "execute_result"
    }
   ],
   "source": [
    "mat2.sum()"
   ]
  },
  {
   "cell_type": "code",
   "execution_count": 44,
   "id": "6fbd327c-e700-48df-8d23-c6abce501daf",
   "metadata": {},
   "outputs": [
    {
     "data": {
      "text/plain": [
       "tensor([4., 3., 2.])"
      ]
     },
     "execution_count": 44,
     "metadata": {},
     "output_type": "execute_result"
    }
   ],
   "source": [
    "mat2.sum(axis=0)#or 1"
   ]
  },
  {
   "cell_type": "code",
   "execution_count": 45,
   "id": "7be3bdc5-4de1-4916-88c4-6d3c4f9bc462",
   "metadata": {},
   "outputs": [
    {
     "data": {
      "text/plain": [
       "tensor(1.5000)"
      ]
     },
     "execution_count": 45,
     "metadata": {},
     "output_type": "execute_result"
    }
   ],
   "source": [
    "mat2.mean()"
   ]
  },
  {
   "cell_type": "code",
   "execution_count": 46,
   "id": "4408f9c9-6090-4088-b283-d0d59eaaede1",
   "metadata": {},
   "outputs": [
    {
     "data": {
      "text/plain": [
       "tensor(1.)"
      ]
     },
     "execution_count": 46,
     "metadata": {},
     "output_type": "execute_result"
    }
   ],
   "source": [
    "mat2.median()"
   ]
  },
  {
   "cell_type": "code",
   "execution_count": 48,
   "id": "86bae930-7209-4988-ab3d-20e8dc5502fb",
   "metadata": {},
   "outputs": [
    {
     "data": {
      "text/plain": [
       "tensor([[20.,  7.,  6.],\n",
       "        [12.,  7.,  5.],\n",
       "        [ 4.,  7.,  4.]])"
      ]
     },
     "execution_count": 48,
     "metadata": {},
     "output_type": "execute_result"
    }
   ],
   "source": [
    "torch.matmul(mat1.T,mat2)"
   ]
  },
  {
   "cell_type": "code",
   "execution_count": 49,
   "id": "641f723a-30de-454b-af71-9fcafa4b3161",
   "metadata": {},
   "outputs": [
    {
     "data": {
      "text/plain": [
       "tensor([[ True, False,  True],\n",
       "        [ True,  True, False]])"
      ]
     },
     "execution_count": 49,
     "metadata": {},
     "output_type": "execute_result"
    }
   ],
   "source": [
    "mat1>mat2"
   ]
  },
  {
   "cell_type": "code",
   "execution_count": 51,
   "id": "a85dbdad-e5b2-4b72-84b4-192c0554f02a",
   "metadata": {},
   "outputs": [
    {
     "data": {
      "text/plain": [
       "tensor([0.0000, 0.6931, 1.0986])"
      ]
     },
     "execution_count": 51,
     "metadata": {},
     "output_type": "execute_result"
    }
   ],
   "source": [
    "torch.log(torch.tensor([1,2,3]))"
   ]
  },
  {
   "cell_type": "code",
   "execution_count": 52,
   "id": "beef8c80-1b34-4ba2-a7ae-e6fec63dccd6",
   "metadata": {},
   "outputs": [
    {
     "data": {
      "text/plain": [
       "tensor([ 2.7183,  7.3891, 20.0855])"
      ]
     },
     "execution_count": 52,
     "metadata": {},
     "output_type": "execute_result"
    }
   ],
   "source": [
    "torch.exp(torch.tensor([1,2,3]))"
   ]
  },
  {
   "cell_type": "code",
   "execution_count": null,
   "id": "194954a8-4a5f-43bb-b86b-6a5548fb4c97",
   "metadata": {},
   "outputs": [],
   "source": []
  }
 ],
 "metadata": {
  "kernelspec": {
   "display_name": "Python 3 (ipykernel)",
   "language": "python",
   "name": "python3"
  },
  "language_info": {
   "codemirror_mode": {
    "name": "ipython",
    "version": 3
   },
   "file_extension": ".py",
   "mimetype": "text/x-python",
   "name": "python",
   "nbconvert_exporter": "python",
   "pygments_lexer": "ipython3",
   "version": "3.12.7"
  }
 },
 "nbformat": 4,
 "nbformat_minor": 5
}
